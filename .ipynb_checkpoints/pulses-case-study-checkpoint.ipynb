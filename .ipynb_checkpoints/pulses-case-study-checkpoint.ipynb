{
 "cells": [
  {
   "cell_type": "code",
   "execution_count": 43,
   "id": "a5c9c462",
   "metadata": {},
   "outputs": [],
   "source": [
    "import pandas as pd\n",
    "import numpy as np\n",
    "import matplotlib.pyplot as plt\n",
    "import seaborn as sns\n",
    "%matplotlib inline\n",
    "\n",
    "import warnings\n",
    "warnings.filterwarnings('ignore')"
   ]
  },
  {
   "cell_type": "code",
   "execution_count": 44,
   "id": "498d2083",
   "metadata": {},
   "outputs": [],
   "source": [
    "urad = pd.read_csv('fci_Stock_Position_commodity_13_Urad_Maharastra-2020.csv')\n",
    "chana= pd.read_csv('fci_Stock_Position_commodity_14_Chana_Maharastra-2020.csv')\n",
    "moong = pd.read_csv('fci_Stock_Position_commodity_16_Moong_Maharastra-2020.csv')"
   ]
  },
  {
   "cell_type": "code",
   "execution_count": 45,
   "id": "c0ce9f10",
   "metadata": {},
   "outputs": [
    {
     "data": {
      "text/html": [
       "<div>\n",
       "<style scoped>\n",
       "    .dataframe tbody tr th:only-of-type {\n",
       "        vertical-align: middle;\n",
       "    }\n",
       "\n",
       "    .dataframe tbody tr th {\n",
       "        vertical-align: top;\n",
       "    }\n",
       "\n",
       "    .dataframe thead th {\n",
       "        text-align: right;\n",
       "    }\n",
       "</style>\n",
       "<table border=\"1\" class=\"dataframe\">\n",
       "  <thead>\n",
       "    <tr style=\"text-align: right;\">\n",
       "      <th></th>\n",
       "      <th>Date</th>\n",
       "      <th>Code</th>\n",
       "      <th>CommodityId</th>\n",
       "      <th>CommodityName</th>\n",
       "      <th>DistrictName</th>\n",
       "      <th>DistrictCode</th>\n",
       "      <th>Stock</th>\n",
       "      <th>CommodityStock</th>\n",
       "      <th>TotalStock</th>\n",
       "    </tr>\n",
       "  </thead>\n",
       "  <tbody>\n",
       "    <tr>\n",
       "      <th>0</th>\n",
       "      <td>2020-01-01T00:00:00Z</td>\n",
       "      <td>Region Name: Maharastra</td>\n",
       "      <td>13</td>\n",
       "      <td>Urad</td>\n",
       "      <td>NAGPUR</td>\n",
       "      <td>WC17</td>\n",
       "      <td>30381.6564</td>\n",
       "      <td>36366.427</td>\n",
       "      <td>36366.427</td>\n",
       "    </tr>\n",
       "    <tr>\n",
       "      <th>1</th>\n",
       "      <td>2020-01-01T00:00:00Z</td>\n",
       "      <td>Region Name: Maharastra</td>\n",
       "      <td>13</td>\n",
       "      <td>Urad</td>\n",
       "      <td>POONA</td>\n",
       "      <td>WC18</td>\n",
       "      <td>5984.7706</td>\n",
       "      <td>36366.427</td>\n",
       "      <td>36366.427</td>\n",
       "    </tr>\n",
       "    <tr>\n",
       "      <th>2</th>\n",
       "      <td>2020-01-02T00:00:00Z</td>\n",
       "      <td>Region Name: Maharastra</td>\n",
       "      <td>13</td>\n",
       "      <td>Urad</td>\n",
       "      <td>NAGPUR</td>\n",
       "      <td>WC17</td>\n",
       "      <td>30381.6564</td>\n",
       "      <td>36366.427</td>\n",
       "      <td>36366.427</td>\n",
       "    </tr>\n",
       "    <tr>\n",
       "      <th>3</th>\n",
       "      <td>2020-01-02T00:00:00Z</td>\n",
       "      <td>Region Name: Maharastra</td>\n",
       "      <td>13</td>\n",
       "      <td>Urad</td>\n",
       "      <td>POONA</td>\n",
       "      <td>WC18</td>\n",
       "      <td>5984.7706</td>\n",
       "      <td>36366.427</td>\n",
       "      <td>36366.427</td>\n",
       "    </tr>\n",
       "    <tr>\n",
       "      <th>4</th>\n",
       "      <td>2020-01-03T00:00:00Z</td>\n",
       "      <td>Region Name: Maharastra</td>\n",
       "      <td>13</td>\n",
       "      <td>Urad</td>\n",
       "      <td>NAGPUR</td>\n",
       "      <td>WC17</td>\n",
       "      <td>30381.6564</td>\n",
       "      <td>36366.427</td>\n",
       "      <td>36366.427</td>\n",
       "    </tr>\n",
       "  </tbody>\n",
       "</table>\n",
       "</div>"
      ],
      "text/plain": [
       "                   Date                     Code  CommodityId CommodityName  \\\n",
       "0  2020-01-01T00:00:00Z  Region Name: Maharastra           13          Urad   \n",
       "1  2020-01-01T00:00:00Z  Region Name: Maharastra           13          Urad   \n",
       "2  2020-01-02T00:00:00Z  Region Name: Maharastra           13          Urad   \n",
       "3  2020-01-02T00:00:00Z  Region Name: Maharastra           13          Urad   \n",
       "4  2020-01-03T00:00:00Z  Region Name: Maharastra           13          Urad   \n",
       "\n",
       "  DistrictName DistrictCode       Stock  CommodityStock  TotalStock  \n",
       "0       NAGPUR         WC17  30381.6564       36366.427   36366.427  \n",
       "1        POONA         WC18   5984.7706       36366.427   36366.427  \n",
       "2       NAGPUR         WC17  30381.6564       36366.427   36366.427  \n",
       "3        POONA         WC18   5984.7706       36366.427   36366.427  \n",
       "4       NAGPUR         WC17  30381.6564       36366.427   36366.427  "
      ]
     },
     "execution_count": 45,
     "metadata": {},
     "output_type": "execute_result"
    }
   ],
   "source": [
    "urad.head()"
   ]
  },
  {
   "cell_type": "code",
   "execution_count": 46,
   "id": "77c2b7f1",
   "metadata": {},
   "outputs": [],
   "source": [
    "urad[\"State\"]= urad[\"Code\"].str.slice(13, len(urad[\"Code\"]), 1)"
   ]
  },
  {
   "cell_type": "code",
   "execution_count": 47,
   "id": "7ce1ea11",
   "metadata": {},
   "outputs": [
    {
     "data": {
      "text/html": [
       "<div>\n",
       "<style scoped>\n",
       "    .dataframe tbody tr th:only-of-type {\n",
       "        vertical-align: middle;\n",
       "    }\n",
       "\n",
       "    .dataframe tbody tr th {\n",
       "        vertical-align: top;\n",
       "    }\n",
       "\n",
       "    .dataframe thead th {\n",
       "        text-align: right;\n",
       "    }\n",
       "</style>\n",
       "<table border=\"1\" class=\"dataframe\">\n",
       "  <thead>\n",
       "    <tr style=\"text-align: right;\">\n",
       "      <th></th>\n",
       "      <th>Date</th>\n",
       "      <th>Code</th>\n",
       "      <th>CommodityId</th>\n",
       "      <th>CommodityName</th>\n",
       "      <th>DistrictName</th>\n",
       "      <th>DistrictCode</th>\n",
       "      <th>Stock</th>\n",
       "      <th>CommodityStock</th>\n",
       "      <th>TotalStock</th>\n",
       "      <th>State</th>\n",
       "    </tr>\n",
       "  </thead>\n",
       "  <tbody>\n",
       "    <tr>\n",
       "      <th>0</th>\n",
       "      <td>2020-01-01T00:00:00Z</td>\n",
       "      <td>Region Name: Maharastra</td>\n",
       "      <td>13</td>\n",
       "      <td>Urad</td>\n",
       "      <td>NAGPUR</td>\n",
       "      <td>WC17</td>\n",
       "      <td>30381.6564</td>\n",
       "      <td>36366.427</td>\n",
       "      <td>36366.427</td>\n",
       "      <td>Maharastra</td>\n",
       "    </tr>\n",
       "    <tr>\n",
       "      <th>1</th>\n",
       "      <td>2020-01-01T00:00:00Z</td>\n",
       "      <td>Region Name: Maharastra</td>\n",
       "      <td>13</td>\n",
       "      <td>Urad</td>\n",
       "      <td>POONA</td>\n",
       "      <td>WC18</td>\n",
       "      <td>5984.7706</td>\n",
       "      <td>36366.427</td>\n",
       "      <td>36366.427</td>\n",
       "      <td>Maharastra</td>\n",
       "    </tr>\n",
       "    <tr>\n",
       "      <th>2</th>\n",
       "      <td>2020-01-02T00:00:00Z</td>\n",
       "      <td>Region Name: Maharastra</td>\n",
       "      <td>13</td>\n",
       "      <td>Urad</td>\n",
       "      <td>NAGPUR</td>\n",
       "      <td>WC17</td>\n",
       "      <td>30381.6564</td>\n",
       "      <td>36366.427</td>\n",
       "      <td>36366.427</td>\n",
       "      <td>Maharastra</td>\n",
       "    </tr>\n",
       "    <tr>\n",
       "      <th>3</th>\n",
       "      <td>2020-01-02T00:00:00Z</td>\n",
       "      <td>Region Name: Maharastra</td>\n",
       "      <td>13</td>\n",
       "      <td>Urad</td>\n",
       "      <td>POONA</td>\n",
       "      <td>WC18</td>\n",
       "      <td>5984.7706</td>\n",
       "      <td>36366.427</td>\n",
       "      <td>36366.427</td>\n",
       "      <td>Maharastra</td>\n",
       "    </tr>\n",
       "    <tr>\n",
       "      <th>4</th>\n",
       "      <td>2020-01-03T00:00:00Z</td>\n",
       "      <td>Region Name: Maharastra</td>\n",
       "      <td>13</td>\n",
       "      <td>Urad</td>\n",
       "      <td>NAGPUR</td>\n",
       "      <td>WC17</td>\n",
       "      <td>30381.6564</td>\n",
       "      <td>36366.427</td>\n",
       "      <td>36366.427</td>\n",
       "      <td>Maharastra</td>\n",
       "    </tr>\n",
       "  </tbody>\n",
       "</table>\n",
       "</div>"
      ],
      "text/plain": [
       "                   Date                     Code  CommodityId CommodityName  \\\n",
       "0  2020-01-01T00:00:00Z  Region Name: Maharastra           13          Urad   \n",
       "1  2020-01-01T00:00:00Z  Region Name: Maharastra           13          Urad   \n",
       "2  2020-01-02T00:00:00Z  Region Name: Maharastra           13          Urad   \n",
       "3  2020-01-02T00:00:00Z  Region Name: Maharastra           13          Urad   \n",
       "4  2020-01-03T00:00:00Z  Region Name: Maharastra           13          Urad   \n",
       "\n",
       "  DistrictName DistrictCode       Stock  CommodityStock  TotalStock  \\\n",
       "0       NAGPUR         WC17  30381.6564       36366.427   36366.427   \n",
       "1        POONA         WC18   5984.7706       36366.427   36366.427   \n",
       "2       NAGPUR         WC17  30381.6564       36366.427   36366.427   \n",
       "3        POONA         WC18   5984.7706       36366.427   36366.427   \n",
       "4       NAGPUR         WC17  30381.6564       36366.427   36366.427   \n",
       "\n",
       "        State  \n",
       "0  Maharastra  \n",
       "1  Maharastra  \n",
       "2  Maharastra  \n",
       "3  Maharastra  \n",
       "4  Maharastra  "
      ]
     },
     "execution_count": 47,
     "metadata": {},
     "output_type": "execute_result"
    }
   ],
   "source": [
    "urad.head()"
   ]
  },
  {
   "cell_type": "code",
   "execution_count": 48,
   "id": "9c37a69c",
   "metadata": {},
   "outputs": [],
   "source": [
    "urad = urad.drop(['Code', 'CommodityId','CommodityStock' ], axis=1)"
   ]
  },
  {
   "cell_type": "code",
   "execution_count": 49,
   "id": "5e0ba59b",
   "metadata": {},
   "outputs": [
    {
     "data": {
      "text/html": [
       "<div>\n",
       "<style scoped>\n",
       "    .dataframe tbody tr th:only-of-type {\n",
       "        vertical-align: middle;\n",
       "    }\n",
       "\n",
       "    .dataframe tbody tr th {\n",
       "        vertical-align: top;\n",
       "    }\n",
       "\n",
       "    .dataframe thead th {\n",
       "        text-align: right;\n",
       "    }\n",
       "</style>\n",
       "<table border=\"1\" class=\"dataframe\">\n",
       "  <thead>\n",
       "    <tr style=\"text-align: right;\">\n",
       "      <th></th>\n",
       "      <th>Date</th>\n",
       "      <th>CommodityName</th>\n",
       "      <th>DistrictName</th>\n",
       "      <th>DistrictCode</th>\n",
       "      <th>Stock</th>\n",
       "      <th>TotalStock</th>\n",
       "      <th>State</th>\n",
       "    </tr>\n",
       "  </thead>\n",
       "  <tbody>\n",
       "    <tr>\n",
       "      <th>0</th>\n",
       "      <td>2020-01-01T00:00:00Z</td>\n",
       "      <td>Urad</td>\n",
       "      <td>NAGPUR</td>\n",
       "      <td>WC17</td>\n",
       "      <td>30381.6564</td>\n",
       "      <td>36366.427</td>\n",
       "      <td>Maharastra</td>\n",
       "    </tr>\n",
       "    <tr>\n",
       "      <th>1</th>\n",
       "      <td>2020-01-01T00:00:00Z</td>\n",
       "      <td>Urad</td>\n",
       "      <td>POONA</td>\n",
       "      <td>WC18</td>\n",
       "      <td>5984.7706</td>\n",
       "      <td>36366.427</td>\n",
       "      <td>Maharastra</td>\n",
       "    </tr>\n",
       "    <tr>\n",
       "      <th>2</th>\n",
       "      <td>2020-01-02T00:00:00Z</td>\n",
       "      <td>Urad</td>\n",
       "      <td>NAGPUR</td>\n",
       "      <td>WC17</td>\n",
       "      <td>30381.6564</td>\n",
       "      <td>36366.427</td>\n",
       "      <td>Maharastra</td>\n",
       "    </tr>\n",
       "    <tr>\n",
       "      <th>3</th>\n",
       "      <td>2020-01-02T00:00:00Z</td>\n",
       "      <td>Urad</td>\n",
       "      <td>POONA</td>\n",
       "      <td>WC18</td>\n",
       "      <td>5984.7706</td>\n",
       "      <td>36366.427</td>\n",
       "      <td>Maharastra</td>\n",
       "    </tr>\n",
       "    <tr>\n",
       "      <th>4</th>\n",
       "      <td>2020-01-03T00:00:00Z</td>\n",
       "      <td>Urad</td>\n",
       "      <td>NAGPUR</td>\n",
       "      <td>WC17</td>\n",
       "      <td>30381.6564</td>\n",
       "      <td>36366.427</td>\n",
       "      <td>Maharastra</td>\n",
       "    </tr>\n",
       "  </tbody>\n",
       "</table>\n",
       "</div>"
      ],
      "text/plain": [
       "                   Date CommodityName DistrictName DistrictCode       Stock  \\\n",
       "0  2020-01-01T00:00:00Z          Urad       NAGPUR         WC17  30381.6564   \n",
       "1  2020-01-01T00:00:00Z          Urad        POONA         WC18   5984.7706   \n",
       "2  2020-01-02T00:00:00Z          Urad       NAGPUR         WC17  30381.6564   \n",
       "3  2020-01-02T00:00:00Z          Urad        POONA         WC18   5984.7706   \n",
       "4  2020-01-03T00:00:00Z          Urad       NAGPUR         WC17  30381.6564   \n",
       "\n",
       "   TotalStock       State  \n",
       "0   36366.427  Maharastra  \n",
       "1   36366.427  Maharastra  \n",
       "2   36366.427  Maharastra  \n",
       "3   36366.427  Maharastra  \n",
       "4   36366.427  Maharastra  "
      ]
     },
     "execution_count": 49,
     "metadata": {},
     "output_type": "execute_result"
    }
   ],
   "source": [
    "urad.head()"
   ]
  },
  {
   "cell_type": "code",
   "execution_count": 50,
   "id": "606e0b25",
   "metadata": {},
   "outputs": [
    {
     "data": {
      "text/plain": [
       "Date              object\n",
       "CommodityName     object\n",
       "DistrictName      object\n",
       "DistrictCode      object\n",
       "Stock            float64\n",
       "TotalStock       float64\n",
       "State             object\n",
       "dtype: object"
      ]
     },
     "execution_count": 50,
     "metadata": {},
     "output_type": "execute_result"
    }
   ],
   "source": [
    "urad.dtypes"
   ]
  },
  {
   "cell_type": "code",
   "execution_count": 51,
   "id": "b79ad2ad",
   "metadata": {},
   "outputs": [],
   "source": [
    "urad['Date'] = pd.to_datetime(urad['Date'])"
   ]
  },
  {
   "cell_type": "code",
   "execution_count": 52,
   "id": "7f911759",
   "metadata": {},
   "outputs": [],
   "source": [
    "urad['Month_Year'] = urad['Date'].dt.to_period('M')"
   ]
  },
  {
   "cell_type": "code",
   "execution_count": 53,
   "id": "48960542",
   "metadata": {},
   "outputs": [
    {
     "data": {
      "text/html": [
       "<div>\n",
       "<style scoped>\n",
       "    .dataframe tbody tr th:only-of-type {\n",
       "        vertical-align: middle;\n",
       "    }\n",
       "\n",
       "    .dataframe tbody tr th {\n",
       "        vertical-align: top;\n",
       "    }\n",
       "\n",
       "    .dataframe thead th {\n",
       "        text-align: right;\n",
       "    }\n",
       "</style>\n",
       "<table border=\"1\" class=\"dataframe\">\n",
       "  <thead>\n",
       "    <tr style=\"text-align: right;\">\n",
       "      <th></th>\n",
       "      <th>Date</th>\n",
       "      <th>CommodityName</th>\n",
       "      <th>DistrictName</th>\n",
       "      <th>DistrictCode</th>\n",
       "      <th>Stock</th>\n",
       "      <th>TotalStock</th>\n",
       "      <th>State</th>\n",
       "      <th>Month_Year</th>\n",
       "    </tr>\n",
       "  </thead>\n",
       "  <tbody>\n",
       "    <tr>\n",
       "      <th>0</th>\n",
       "      <td>2020-01-01 00:00:00+00:00</td>\n",
       "      <td>Urad</td>\n",
       "      <td>NAGPUR</td>\n",
       "      <td>WC17</td>\n",
       "      <td>30381.6564</td>\n",
       "      <td>36366.427</td>\n",
       "      <td>Maharastra</td>\n",
       "      <td>2020-01</td>\n",
       "    </tr>\n",
       "    <tr>\n",
       "      <th>1</th>\n",
       "      <td>2020-01-01 00:00:00+00:00</td>\n",
       "      <td>Urad</td>\n",
       "      <td>POONA</td>\n",
       "      <td>WC18</td>\n",
       "      <td>5984.7706</td>\n",
       "      <td>36366.427</td>\n",
       "      <td>Maharastra</td>\n",
       "      <td>2020-01</td>\n",
       "    </tr>\n",
       "    <tr>\n",
       "      <th>2</th>\n",
       "      <td>2020-01-02 00:00:00+00:00</td>\n",
       "      <td>Urad</td>\n",
       "      <td>NAGPUR</td>\n",
       "      <td>WC17</td>\n",
       "      <td>30381.6564</td>\n",
       "      <td>36366.427</td>\n",
       "      <td>Maharastra</td>\n",
       "      <td>2020-01</td>\n",
       "    </tr>\n",
       "    <tr>\n",
       "      <th>3</th>\n",
       "      <td>2020-01-02 00:00:00+00:00</td>\n",
       "      <td>Urad</td>\n",
       "      <td>POONA</td>\n",
       "      <td>WC18</td>\n",
       "      <td>5984.7706</td>\n",
       "      <td>36366.427</td>\n",
       "      <td>Maharastra</td>\n",
       "      <td>2020-01</td>\n",
       "    </tr>\n",
       "    <tr>\n",
       "      <th>4</th>\n",
       "      <td>2020-01-03 00:00:00+00:00</td>\n",
       "      <td>Urad</td>\n",
       "      <td>NAGPUR</td>\n",
       "      <td>WC17</td>\n",
       "      <td>30381.6564</td>\n",
       "      <td>36366.427</td>\n",
       "      <td>Maharastra</td>\n",
       "      <td>2020-01</td>\n",
       "    </tr>\n",
       "  </tbody>\n",
       "</table>\n",
       "</div>"
      ],
      "text/plain": [
       "                       Date CommodityName DistrictName DistrictCode  \\\n",
       "0 2020-01-01 00:00:00+00:00          Urad       NAGPUR         WC17   \n",
       "1 2020-01-01 00:00:00+00:00          Urad        POONA         WC18   \n",
       "2 2020-01-02 00:00:00+00:00          Urad       NAGPUR         WC17   \n",
       "3 2020-01-02 00:00:00+00:00          Urad        POONA         WC18   \n",
       "4 2020-01-03 00:00:00+00:00          Urad       NAGPUR         WC17   \n",
       "\n",
       "        Stock  TotalStock       State Month_Year  \n",
       "0  30381.6564   36366.427  Maharastra    2020-01  \n",
       "1   5984.7706   36366.427  Maharastra    2020-01  \n",
       "2  30381.6564   36366.427  Maharastra    2020-01  \n",
       "3   5984.7706   36366.427  Maharastra    2020-01  \n",
       "4  30381.6564   36366.427  Maharastra    2020-01  "
      ]
     },
     "execution_count": 53,
     "metadata": {},
     "output_type": "execute_result"
    }
   ],
   "source": [
    "urad.head()"
   ]
  },
  {
   "cell_type": "code",
   "execution_count": 65,
   "id": "108ef7d1",
   "metadata": {},
   "outputs": [
    {
     "name": "stdout",
     "output_type": "stream",
     "text": [
      "                                Stock    TotalStock\n",
      "Month_Year DistrictName                            \n",
      "2020-01    NAGPUR        8.982323e+06  1.074791e+07\n",
      "           POONA         1.765583e+06  1.074791e+07\n",
      "2020-02    NAGPUR        7.929612e+06  9.491637e+06\n",
      "           POONA         1.562025e+06  9.491637e+06\n",
      "2020-03    NAGPUR        8.476482e+06  1.014623e+07\n",
      "           POONA         1.669751e+06  1.014623e+07\n",
      "2020-04    NAGPUR        8.203047e+06  9.818935e+06\n",
      "           POONA         1.615888e+06  9.818935e+06\n",
      "2020-05    NAGPUR        8.203047e+06  9.816159e+06\n",
      "           POONA         1.613111e+06  9.816159e+06\n",
      "2020-06    NAGPUR        7.291598e+06  8.727942e+06\n",
      "           POONA         1.436345e+06  8.727942e+06\n",
      "2020-07    NAGPUR        7.534651e+06  9.018874e+06\n",
      "           POONA         1.484223e+06  9.018874e+06\n",
      "2020-08    NAGPUR        7.534651e+06  9.018874e+06\n",
      "           POONA         1.484223e+06  9.018874e+06\n",
      "2020-09    NAGPUR        7.226573e+06  8.662918e+06\n",
      "           POONA         1.436345e+06  8.662918e+06\n",
      "2020-10    NAGPUR        2.242662e+06  2.569749e+06\n",
      "           POONA         3.270874e+05  2.361576e+06\n"
     ]
    }
   ],
   "source": [
    "urad_stock_month = urad.groupby(['Month_Year','DistrictName']).sum()\n",
    "print(urad_stock_month)\n",
    "\n",
    "#urad_stock_month = urad.groupby(['Month_Year']).sum()\n",
    "#print(urad_stock_month)"
   ]
  },
  {
   "cell_type": "code",
   "execution_count": 75,
   "id": "6becbd24",
   "metadata": {},
   "outputs": [
    {
     "data": {
      "image/png": "[encoded data removed]",
      "text/plain": [
       "<Figure size 823.975x720 with 1 Axes>"
      ]
     },
     "metadata": {},
     "output_type": "display_data"
    }
   ],
   "source": [
    "import seaborn as sns\n",
    "sns.set_theme(style=\"whitegrid\")\n",
    "\n",
    "# Draw a nested barplot by species and sex\n",
    "g = sns.catplot(\n",
    "    data=urad, kind=\"bar\",\n",
    "    x=\"Month_Year\", y=\"Stock\", hue=\"Stock\",\n",
    "     palette=\"dark\", alpha=.6, height=10\n",
    ")\n",
    "g.despine(left=True)\n",
    "g.set_axis_labels(\"\", \"Stocks\")\n",
    "g.legend.set_title(\"\")"
   ]
  },
  {
   "cell_type": "code",
   "execution_count": null,
   "id": "2917ab93",
   "metadata": {},
   "outputs": [],
   "source": []
  },
  {
   "cell_type": "code",
   "execution_count": null,
   "id": "0104e3fe",
   "metadata": {},
   "outputs": [],
   "source": []
  },
  {
   "cell_type": "code",
   "execution_count": null,
   "id": "75e73dfb",
   "metadata": {},
   "outputs": [],
   "source": []
  },
  {
   "cell_type": "code",
   "execution_count": null,
   "id": "7540c0bb",
   "metadata": {},
   "outputs": [],
   "source": []
  },
  {
   "cell_type": "code",
   "execution_count": null,
   "id": "2e1e13c7",
   "metadata": {},
   "outputs": [],
   "source": []
  },
  {
   "cell_type": "code",
   "execution_count": null,
   "id": "a1769082",
   "metadata": {},
   "outputs": [],
   "source": []
  },
  {
   "cell_type": "code",
   "execution_count": null,
   "id": "2909a357",
   "metadata": {},
   "outputs": [],
   "source": []
  },
  {
   "cell_type": "code",
   "execution_count": null,
   "id": "3637c2b6",
   "metadata": {},
   "outputs": [],
   "source": []
  },
  {
   "cell_type": "code",
   "execution_count": null,
   "id": "a76634ab",
   "metadata": {},
   "outputs": [],
   "source": []
  },
  {
   "cell_type": "code",
   "execution_count": null,
   "id": "ed73f596",
   "metadata": {},
   "outputs": [],
   "source": []
  },
  {
   "cell_type": "code",
   "execution_count": null,
   "id": "a9d21fb6",
   "metadata": {},
   "outputs": [],
   "source": []
  },
  {
   "cell_type": "code",
   "execution_count": null,
   "id": "c6d3ef26",
   "metadata": {},
   "outputs": [],
   "source": []
  },
  {
   "cell_type": "code",
   "execution_count": null,
   "id": "fbef4ef0",
   "metadata": {},
   "outputs": [],
   "source": [
    "urad.columns = ['Date','change','CommodityId','CommodityName','DistrictName','DistrictCode','Stock','CommodityStock','TotalStock']\n"
   ]
  },
  {
   "cell_type": "code",
   "execution_count": null,
   "id": "9f069f8e",
   "metadata": {},
   "outputs": [],
   "source": [
    "urad"
   ]
  },
  {
   "cell_type": "code",
   "execution_count": null,
   "id": "eaf00151",
   "metadata": {},
   "outputs": [],
   "source": [
    "chana"
   ]
  },
  {
   "cell_type": "code",
   "execution_count": null,
   "id": "55872cfc",
   "metadata": {},
   "outputs": [],
   "source": [
    "chana.columns = ['Date','Region','CommodityId','CommodityName','DistrictName','DistrictCode','Stock','CommodityStock','TotalStock']\n"
   ]
  },
  {
   "cell_type": "code",
   "execution_count": null,
   "id": "26db8495",
   "metadata": {},
   "outputs": [],
   "source": [
    "chana"
   ]
  },
  {
   "cell_type": "code",
   "execution_count": null,
   "id": "f35217cc",
   "metadata": {},
   "outputs": [],
   "source": [
    "chana['Region'] = chana['Region'].map(lambda x: x.lstrip('-+').rstrip('Region Name:'))"
   ]
  },
  {
   "cell_type": "code",
   "execution_count": null,
   "id": "94922a12",
   "metadata": {},
   "outputs": [],
   "source": [
    "chana"
   ]
  },
  {
   "cell_type": "code",
   "execution_count": null,
   "id": "ca6f77a5",
   "metadata": {},
   "outputs": [],
   "source": [
    "chana['Region'] = chana['Region'].map(lambda x: str(x)[2:])"
   ]
  },
  {
   "cell_type": "code",
   "execution_count": null,
   "id": "6e767dcd",
   "metadata": {},
   "outputs": [],
   "source": [
    "chana"
   ]
  },
  {
   "cell_type": "code",
   "execution_count": null,
   "id": "3b1f8b9e",
   "metadata": {},
   "outputs": [],
   "source": [
    "moong"
   ]
  },
  {
   "cell_type": "code",
   "execution_count": null,
   "id": "d81cfe72",
   "metadata": {},
   "outputs": [],
   "source": [
    "moong['Code']=moong['Code'].map(lambda x: str(x)[2:])"
   ]
  },
  {
   "cell_type": "code",
   "execution_count": null,
   "id": "34c0e580",
   "metadata": {},
   "outputs": [],
   "source": [
    "moong"
   ]
  },
  {
   "cell_type": "markdown",
   "id": "11edcebe",
   "metadata": {},
   "source": []
  },
  {
   "cell_type": "code",
   "execution_count": null,
   "id": "ff6eee11",
   "metadata": {},
   "outputs": [],
   "source": []
  }
 ],
 "metadata": {
  "kernelspec": {
   "display_name": "Python 3",
   "language": "python",
   "name": "python3"
  },
  "language_info": {
   "codemirror_mode": {
    "name": "ipython",
    "version": 3
   },
   "file_extension": ".py",
   "mimetype": "text/x-python",
   "name": "python",
   "nbconvert_exporter": "python",
   "pygments_lexer": "ipython3",
   "version": "3.8.8"
  }
 },
 "nbformat": 4,
 "nbformat_minor": 5
}
