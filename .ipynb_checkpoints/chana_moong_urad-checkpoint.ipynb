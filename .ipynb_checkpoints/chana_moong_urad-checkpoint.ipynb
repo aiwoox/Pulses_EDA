{
 "cells": [
  {
   "cell_type": "markdown",
   "metadata": {
    "id": "GZfYhWMsHKMd"
   },
   "source": [
    "## Pulses: Case-study\n",
    "\n",
    "In this study, we are focusing on three datasets linked to pulses: urad dal, moong dal, and chana dal. Using these datasets, we will attempt to determine how widely distributed each pulse is in each district and region.\n",
    "\n",
    "\n",
    "\n",
    "Common columns in all 3 datasets \n",
    "*   Date: here we have only 2020 year with all 12 months\n",
    "*  Code: code column displays region \n",
    "\n",
    "*   CommodityId: It displays some Id of pulses\n",
    "*   Commodity Name: which pulses is it eg: urad or chana or moong\n",
    "\n",
    "*   \tDistrictName: Name of district where the pulses is been distributed\n",
    "\t\n",
    "*   \tDistrictCode: each district as unique code\n",
    "\n",
    "*   \tStock: what amount of stock is been distributed each day to a particular district,region\n",
    "*   CommodityStock: It has a constant value.\n",
    "\n",
    "\n",
    "* TotalStock: Total amount of stock.\n"
   ]
  },
  {
   "cell_type": "markdown",
   "metadata": {
    "id": "hQEBhCTlHcPY"
   },
   "source": [
    "We must first mount the device containing the csv file in order to access its data."
   ]
  },
  {
   "cell_type": "code",
   "execution_count": 1,
   "metadata": {
    "colab": {
     "base_uri": "https://localhost:8080/"
    },
    "id": "9NEx8fP-HPlQ",
    "outputId": "05bac12c-4815-4297-eade-64f7219ec06a"
   },
   "outputs": [],
   "source": [
    "#from google.colab  import drive\n",
    "#drive.mount('/content/drive')"
   ]
  },
  {
   "cell_type": "markdown",
   "metadata": {
    "id": "NVMWuu58JHkW"
   },
   "source": [
    "Import the libraries to enable code reuse and maintainability of your projects."
   ]
  },
  {
   "cell_type": "code",
   "execution_count": 2,
   "metadata": {
    "id": "Fgv5hl9AI700"
   },
   "outputs": [],
   "source": [
    "#Add Necessary Libraries\n",
    "\n",
    "import pandas as pd\n",
    "import numpy as np\n",
    "import matplotlib.pyplot as plt\n",
    "import seaborn as sns\n",
    "%matplotlib inline\n",
    "\n",
    "import warnings\n",
    "warnings.filterwarnings('ignore')"
   ]
  },
  {
   "cell_type": "markdown",
   "metadata": {
    "id": "ckIHhcESIT3t"
   },
   "source": [
    "Giving a file's drive path allows us to read a file"
   ]
  },
  {
   "cell_type": "code",
   "execution_count": 3,
   "metadata": {
    "id": "xOoDw8d_H8G2"
   },
   "outputs": [
    {
     "ename": "FileNotFoundError",
     "evalue": "[Errno 2] No such file or directory: '/content/drive/MyDrive/ML & AI/fci_Stock_Position_commodity_13_Urad_Maharastra-2020.csv'",
     "output_type": "error",
     "traceback": [
      "\u001b[1;31m---------------------------------------------------------------------------\u001b[0m",
      "\u001b[1;31mFileNotFoundError\u001b[0m                         Traceback (most recent call last)",
      "\u001b[1;32m<ipython-input-3-498a5e4b84a5>\u001b[0m in \u001b[0;36m<module>\u001b[1;34m\u001b[0m\n\u001b[1;32m----> 1\u001b[1;33m \u001b[0murad\u001b[0m \u001b[1;33m=\u001b[0m \u001b[0mpd\u001b[0m\u001b[1;33m.\u001b[0m\u001b[0mread_csv\u001b[0m\u001b[1;33m(\u001b[0m\u001b[1;34m'/content/drive/MyDrive/ML & AI/fci_Stock_Position_commodity_13_Urad_Maharastra-2020.csv'\u001b[0m\u001b[1;33m)\u001b[0m\u001b[1;33m\u001b[0m\u001b[1;33m\u001b[0m\u001b[0m\n\u001b[0m\u001b[0;32m      2\u001b[0m \u001b[0mchana\u001b[0m\u001b[1;33m=\u001b[0m \u001b[0mpd\u001b[0m\u001b[1;33m.\u001b[0m\u001b[0mread_csv\u001b[0m\u001b[1;33m(\u001b[0m\u001b[1;34m'/content/drive/MyDrive/ML & AI/fci_Stock_Position_commodity_14_Chana_Maharastra-2020.csv'\u001b[0m\u001b[1;33m)\u001b[0m\u001b[1;33m\u001b[0m\u001b[1;33m\u001b[0m\u001b[0m\n\u001b[0;32m      3\u001b[0m \u001b[0mmoong\u001b[0m \u001b[1;33m=\u001b[0m \u001b[0mpd\u001b[0m\u001b[1;33m.\u001b[0m\u001b[0mread_csv\u001b[0m\u001b[1;33m(\u001b[0m\u001b[1;34m'/content/drive/MyDrive/ML & AI/fci_Stock_Position_commodity_16_Moong_Maharastra-2020.csv'\u001b[0m\u001b[1;33m)\u001b[0m\u001b[1;33m\u001b[0m\u001b[1;33m\u001b[0m\u001b[0m\n",
      "\u001b[1;32m~\\anaconda3\\lib\\site-packages\\pandas\\io\\parsers.py\u001b[0m in \u001b[0;36mread_csv\u001b[1;34m(filepath_or_buffer, sep, delimiter, header, names, index_col, usecols, squeeze, prefix, mangle_dupe_cols, dtype, engine, converters, true_values, false_values, skipinitialspace, skiprows, skipfooter, nrows, na_values, keep_default_na, na_filter, verbose, skip_blank_lines, parse_dates, infer_datetime_format, keep_date_col, date_parser, dayfirst, cache_dates, iterator, chunksize, compression, thousands, decimal, lineterminator, quotechar, quoting, doublequote, escapechar, comment, encoding, dialect, error_bad_lines, warn_bad_lines, delim_whitespace, low_memory, memory_map, float_precision, storage_options)\u001b[0m\n\u001b[0;32m    608\u001b[0m     \u001b[0mkwds\u001b[0m\u001b[1;33m.\u001b[0m\u001b[0mupdate\u001b[0m\u001b[1;33m(\u001b[0m\u001b[0mkwds_defaults\u001b[0m\u001b[1;33m)\u001b[0m\u001b[1;33m\u001b[0m\u001b[1;33m\u001b[0m\u001b[0m\n\u001b[0;32m    609\u001b[0m \u001b[1;33m\u001b[0m\u001b[0m\n\u001b[1;32m--> 610\u001b[1;33m     \u001b[1;32mreturn\u001b[0m \u001b[0m_read\u001b[0m\u001b[1;33m(\u001b[0m\u001b[0mfilepath_or_buffer\u001b[0m\u001b[1;33m,\u001b[0m \u001b[0mkwds\u001b[0m\u001b[1;33m)\u001b[0m\u001b[1;33m\u001b[0m\u001b[1;33m\u001b[0m\u001b[0m\n\u001b[0m\u001b[0;32m    611\u001b[0m \u001b[1;33m\u001b[0m\u001b[0m\n\u001b[0;32m    612\u001b[0m \u001b[1;33m\u001b[0m\u001b[0m\n",
      "\u001b[1;32m~\\anaconda3\\lib\\site-packages\\pandas\\io\\parsers.py\u001b[0m in \u001b[0;36m_read\u001b[1;34m(filepath_or_buffer, kwds)\u001b[0m\n\u001b[0;32m    460\u001b[0m \u001b[1;33m\u001b[0m\u001b[0m\n\u001b[0;32m    461\u001b[0m     \u001b[1;31m# Create the parser.\u001b[0m\u001b[1;33m\u001b[0m\u001b[1;33m\u001b[0m\u001b[1;33m\u001b[0m\u001b[0m\n\u001b[1;32m--> 462\u001b[1;33m     \u001b[0mparser\u001b[0m \u001b[1;33m=\u001b[0m \u001b[0mTextFileReader\u001b[0m\u001b[1;33m(\u001b[0m\u001b[0mfilepath_or_buffer\u001b[0m\u001b[1;33m,\u001b[0m \u001b[1;33m**\u001b[0m\u001b[0mkwds\u001b[0m\u001b[1;33m)\u001b[0m\u001b[1;33m\u001b[0m\u001b[1;33m\u001b[0m\u001b[0m\n\u001b[0m\u001b[0;32m    463\u001b[0m \u001b[1;33m\u001b[0m\u001b[0m\n\u001b[0;32m    464\u001b[0m     \u001b[1;32mif\u001b[0m \u001b[0mchunksize\u001b[0m \u001b[1;32mor\u001b[0m \u001b[0miterator\u001b[0m\u001b[1;33m:\u001b[0m\u001b[1;33m\u001b[0m\u001b[1;33m\u001b[0m\u001b[0m\n",
      "\u001b[1;32m~\\anaconda3\\lib\\site-packages\\pandas\\io\\parsers.py\u001b[0m in \u001b[0;36m__init__\u001b[1;34m(self, f, engine, **kwds)\u001b[0m\n\u001b[0;32m    817\u001b[0m             \u001b[0mself\u001b[0m\u001b[1;33m.\u001b[0m\u001b[0moptions\u001b[0m\u001b[1;33m[\u001b[0m\u001b[1;34m\"has_index_names\"\u001b[0m\u001b[1;33m]\u001b[0m \u001b[1;33m=\u001b[0m \u001b[0mkwds\u001b[0m\u001b[1;33m[\u001b[0m\u001b[1;34m\"has_index_names\"\u001b[0m\u001b[1;33m]\u001b[0m\u001b[1;33m\u001b[0m\u001b[1;33m\u001b[0m\u001b[0m\n\u001b[0;32m    818\u001b[0m \u001b[1;33m\u001b[0m\u001b[0m\n\u001b[1;32m--> 819\u001b[1;33m         \u001b[0mself\u001b[0m\u001b[1;33m.\u001b[0m\u001b[0m_engine\u001b[0m \u001b[1;33m=\u001b[0m \u001b[0mself\u001b[0m\u001b[1;33m.\u001b[0m\u001b[0m_make_engine\u001b[0m\u001b[1;33m(\u001b[0m\u001b[0mself\u001b[0m\u001b[1;33m.\u001b[0m\u001b[0mengine\u001b[0m\u001b[1;33m)\u001b[0m\u001b[1;33m\u001b[0m\u001b[1;33m\u001b[0m\u001b[0m\n\u001b[0m\u001b[0;32m    820\u001b[0m \u001b[1;33m\u001b[0m\u001b[0m\n\u001b[0;32m    821\u001b[0m     \u001b[1;32mdef\u001b[0m \u001b[0mclose\u001b[0m\u001b[1;33m(\u001b[0m\u001b[0mself\u001b[0m\u001b[1;33m)\u001b[0m\u001b[1;33m:\u001b[0m\u001b[1;33m\u001b[0m\u001b[1;33m\u001b[0m\u001b[0m\n",
      "\u001b[1;32m~\\anaconda3\\lib\\site-packages\\pandas\\io\\parsers.py\u001b[0m in \u001b[0;36m_make_engine\u001b[1;34m(self, engine)\u001b[0m\n\u001b[0;32m   1048\u001b[0m             )\n\u001b[0;32m   1049\u001b[0m         \u001b[1;31m# error: Too many arguments for \"ParserBase\"\u001b[0m\u001b[1;33m\u001b[0m\u001b[1;33m\u001b[0m\u001b[1;33m\u001b[0m\u001b[0m\n\u001b[1;32m-> 1050\u001b[1;33m         \u001b[1;32mreturn\u001b[0m \u001b[0mmapping\u001b[0m\u001b[1;33m[\u001b[0m\u001b[0mengine\u001b[0m\u001b[1;33m]\u001b[0m\u001b[1;33m(\u001b[0m\u001b[0mself\u001b[0m\u001b[1;33m.\u001b[0m\u001b[0mf\u001b[0m\u001b[1;33m,\u001b[0m \u001b[1;33m**\u001b[0m\u001b[0mself\u001b[0m\u001b[1;33m.\u001b[0m\u001b[0moptions\u001b[0m\u001b[1;33m)\u001b[0m  \u001b[1;31m# type: ignore[call-arg]\u001b[0m\u001b[1;33m\u001b[0m\u001b[1;33m\u001b[0m\u001b[0m\n\u001b[0m\u001b[0;32m   1051\u001b[0m \u001b[1;33m\u001b[0m\u001b[0m\n\u001b[0;32m   1052\u001b[0m     \u001b[1;32mdef\u001b[0m \u001b[0m_failover_to_python\u001b[0m\u001b[1;33m(\u001b[0m\u001b[0mself\u001b[0m\u001b[1;33m)\u001b[0m\u001b[1;33m:\u001b[0m\u001b[1;33m\u001b[0m\u001b[1;33m\u001b[0m\u001b[0m\n",
      "\u001b[1;32m~\\anaconda3\\lib\\site-packages\\pandas\\io\\parsers.py\u001b[0m in \u001b[0;36m__init__\u001b[1;34m(self, src, **kwds)\u001b[0m\n\u001b[0;32m   1865\u001b[0m \u001b[1;33m\u001b[0m\u001b[0m\n\u001b[0;32m   1866\u001b[0m         \u001b[1;31m# open handles\u001b[0m\u001b[1;33m\u001b[0m\u001b[1;33m\u001b[0m\u001b[1;33m\u001b[0m\u001b[0m\n\u001b[1;32m-> 1867\u001b[1;33m         \u001b[0mself\u001b[0m\u001b[1;33m.\u001b[0m\u001b[0m_open_handles\u001b[0m\u001b[1;33m(\u001b[0m\u001b[0msrc\u001b[0m\u001b[1;33m,\u001b[0m \u001b[0mkwds\u001b[0m\u001b[1;33m)\u001b[0m\u001b[1;33m\u001b[0m\u001b[1;33m\u001b[0m\u001b[0m\n\u001b[0m\u001b[0;32m   1868\u001b[0m         \u001b[1;32massert\u001b[0m \u001b[0mself\u001b[0m\u001b[1;33m.\u001b[0m\u001b[0mhandles\u001b[0m \u001b[1;32mis\u001b[0m \u001b[1;32mnot\u001b[0m \u001b[1;32mNone\u001b[0m\u001b[1;33m\u001b[0m\u001b[1;33m\u001b[0m\u001b[0m\n\u001b[0;32m   1869\u001b[0m         \u001b[1;32mfor\u001b[0m \u001b[0mkey\u001b[0m \u001b[1;32min\u001b[0m \u001b[1;33m(\u001b[0m\u001b[1;34m\"storage_options\"\u001b[0m\u001b[1;33m,\u001b[0m \u001b[1;34m\"encoding\"\u001b[0m\u001b[1;33m,\u001b[0m \u001b[1;34m\"memory_map\"\u001b[0m\u001b[1;33m,\u001b[0m \u001b[1;34m\"compression\"\u001b[0m\u001b[1;33m)\u001b[0m\u001b[1;33m:\u001b[0m\u001b[1;33m\u001b[0m\u001b[1;33m\u001b[0m\u001b[0m\n",
      "\u001b[1;32m~\\anaconda3\\lib\\site-packages\\pandas\\io\\parsers.py\u001b[0m in \u001b[0;36m_open_handles\u001b[1;34m(self, src, kwds)\u001b[0m\n\u001b[0;32m   1360\u001b[0m         \u001b[0mLet\u001b[0m \u001b[0mthe\u001b[0m \u001b[0mreaders\u001b[0m \u001b[0mopen\u001b[0m \u001b[0mIOHanldes\u001b[0m \u001b[0mafter\u001b[0m \u001b[0mthey\u001b[0m \u001b[0mare\u001b[0m \u001b[0mdone\u001b[0m \u001b[1;32mwith\u001b[0m \u001b[0mtheir\u001b[0m \u001b[0mpotential\u001b[0m \u001b[0mraises\u001b[0m\u001b[1;33m.\u001b[0m\u001b[1;33m\u001b[0m\u001b[1;33m\u001b[0m\u001b[0m\n\u001b[0;32m   1361\u001b[0m         \"\"\"\n\u001b[1;32m-> 1362\u001b[1;33m         self.handles = get_handle(\n\u001b[0m\u001b[0;32m   1363\u001b[0m             \u001b[0msrc\u001b[0m\u001b[1;33m,\u001b[0m\u001b[1;33m\u001b[0m\u001b[1;33m\u001b[0m\u001b[0m\n\u001b[0;32m   1364\u001b[0m             \u001b[1;34m\"r\"\u001b[0m\u001b[1;33m,\u001b[0m\u001b[1;33m\u001b[0m\u001b[1;33m\u001b[0m\u001b[0m\n",
      "\u001b[1;32m~\\anaconda3\\lib\\site-packages\\pandas\\io\\common.py\u001b[0m in \u001b[0;36mget_handle\u001b[1;34m(path_or_buf, mode, encoding, compression, memory_map, is_text, errors, storage_options)\u001b[0m\n\u001b[0;32m    640\u001b[0m                 \u001b[0merrors\u001b[0m \u001b[1;33m=\u001b[0m \u001b[1;34m\"replace\"\u001b[0m\u001b[1;33m\u001b[0m\u001b[1;33m\u001b[0m\u001b[0m\n\u001b[0;32m    641\u001b[0m             \u001b[1;31m# Encoding\u001b[0m\u001b[1;33m\u001b[0m\u001b[1;33m\u001b[0m\u001b[1;33m\u001b[0m\u001b[0m\n\u001b[1;32m--> 642\u001b[1;33m             handle = open(\n\u001b[0m\u001b[0;32m    643\u001b[0m                 \u001b[0mhandle\u001b[0m\u001b[1;33m,\u001b[0m\u001b[1;33m\u001b[0m\u001b[1;33m\u001b[0m\u001b[0m\n\u001b[0;32m    644\u001b[0m                 \u001b[0mioargs\u001b[0m\u001b[1;33m.\u001b[0m\u001b[0mmode\u001b[0m\u001b[1;33m,\u001b[0m\u001b[1;33m\u001b[0m\u001b[1;33m\u001b[0m\u001b[0m\n",
      "\u001b[1;31mFileNotFoundError\u001b[0m: [Errno 2] No such file or directory: '/content/drive/MyDrive/ML & AI/fci_Stock_Position_commodity_13_Urad_Maharastra-2020.csv'"
     ]
    }
   ],
   "source": [
    "urad = pd.read_csv('fci_Stock_Position_commodity_13_Urad_Maharastra-2020.csv')\n",
    "chana= pd.read_csv('fci_Stock_Position_commodity_14_Chana_Maharastra-2020.csv')\n",
    "moong = pd.read_csv('fci_Stock_Position_commodity_16_Moong_Maharastra-2020.csv')"
   ]
  },
  {
   "cell_type": "markdown",
   "metadata": {
    "id": "C-IQSP91N1TA"
   },
   "source": [
    "Head method to show all three datasets"
   ]
  },
  {
   "cell_type": "code",
   "execution_count": null,
   "metadata": {
    "colab": {
     "base_uri": "https://localhost:8080/",
     "height": 363
    },
    "id": "XxR7O_v1KPjy",
    "outputId": "2a1159f7-3bd2-4e9b-b885-76ce726e6724"
   },
   "outputs": [],
   "source": [
    "# Display top 10 Records\n",
    "\n",
    "urad.head(10)"
   ]
  },
  {
   "cell_type": "code",
   "execution_count": null,
   "metadata": {
    "colab": {
     "base_uri": "https://localhost:8080/",
     "height": 300
    },
    "id": "0wsaKqupYZ3O",
    "outputId": "6d837370-eff2-4b77-8603-89023ed4f387"
   },
   "outputs": [],
   "source": [
    "urad.describe()"
   ]
  },
  {
   "cell_type": "markdown",
   "metadata": {
    "id": "czQPzsBvPUvg"
   },
   "source": [
    "# Data Preprocessing and Data Cleaning\n",
    "\n",
    "## Exploratory Data Analysis"
   ]
  },
  {
   "cell_type": "markdown",
   "metadata": {
    "id": "aoZxFydDPlFe"
   },
   "source": [
    "As you can see, the Code columns appear unrelated. To fix this, we may add a new column called \"State\" and remove terms like \"Region Name:\" from the Code columns."
   ]
  },
  {
   "cell_type": "code",
   "execution_count": null,
   "metadata": {
    "colab": {
     "base_uri": "https://localhost:8080/",
     "height": 363
    },
    "id": "bgu9jmh7N-oN",
    "outputId": "1f0d8bb5-bc4d-4540-9960-63c0eda01b06"
   },
   "outputs": [],
   "source": [
    "#Adding a new column and replacing it with code column's value which is essential\n",
    "\n",
    "urad[\"State\"]= urad[\"Code\"].str.slice(13, len(urad[\"Code\"]), 1)\n",
    "urad.head(10)"
   ]
  },
  {
   "cell_type": "code",
   "execution_count": null,
   "metadata": {
    "colab": {
     "base_uri": "https://localhost:8080/",
     "height": 363
    },
    "id": "f1SzHkVdQV9V",
    "outputId": "86af7922-2052-4810-ff31-ff28dbbe5735"
   },
   "outputs": [],
   "source": [
    "#Dropping the column which as constant values\n",
    "\n",
    "urad = urad.drop(['Code', 'CommodityId','CommodityStock' ], axis=1)\n",
    "urad.head(10)"
   ]
  },
  {
   "cell_type": "code",
   "execution_count": null,
   "metadata": {
    "colab": {
     "base_uri": "https://localhost:8080/"
    },
    "id": "6ScgM-PuwWT1",
    "outputId": "e3df4ee6-a262-49d8-f039-c446aafa2374"
   },
   "outputs": [],
   "source": [
    "urad['Date'] = pd.to_datetime(urad['Date'])\n",
    "urad['Month_Year'] = urad['Date'].dt.to_period('M')\n"
   ]
  },
  {
   "cell_type": "code",
   "execution_count": null,
   "metadata": {
    "colab": {
     "base_uri": "https://localhost:8080/",
     "height": 708
    },
    "id": "1HGMRasWTGNO",
    "outputId": "c83e265d-27f6-43c5-a45d-209779747cf5"
   },
   "outputs": [],
   "source": [
    "#Sum the Stocks based on Month and group by District Name\n",
    "\n",
    "urad_stock_month = urad.groupby(['Month_Year','DistrictName']).sum()\n",
    "urad_stock_month"
   ]
  },
  {
   "cell_type": "code",
   "execution_count": null,
   "metadata": {
    "colab": {
     "base_uri": "https://localhost:8080/",
     "height": 771
    },
    "id": "eBEa6wTHTPfv",
    "outputId": "ef22949f-f7f8-4e99-8ae7-985cbd7504b5"
   },
   "outputs": [],
   "source": [
    "#Checking district wise stock\n",
    "#Sum the stocks and group by district name\n",
    "\n",
    "urad_stock_sum = urad.groupby(['Stock','DistrictName']).sum()\n",
    "urad_stock_sum"
   ]
  },
  {
   "cell_type": "code",
   "execution_count": null,
   "metadata": {
    "colab": {
     "base_uri": "https://localhost:8080/",
     "height": 248
    },
    "id": "Y3aus5FxZAXi",
    "outputId": "a291010e-5662-4b60-b192-12b2782354bf"
   },
   "outputs": [],
   "source": [
    "urad[\"DistrictName\"].value_counts().plot.pie()\n",
    "\n",
    "plt.show()"
   ]
  },
  {
   "cell_type": "code",
   "execution_count": null,
   "metadata": {
    "colab": {
     "base_uri": "https://localhost:8080/",
     "height": 296
    },
    "id": "UJS0iwcwaRjR",
    "outputId": "2d95df46-c4dd-4a74-e666-829ed9cca810"
   },
   "outputs": [],
   "source": [
    "sns.barplot(data=urad, x=\"DistrictName\", y=\"Stock\")"
   ]
  },
  {
   "cell_type": "markdown",
   "metadata": {
    "id": "ZzfqWA6rdvkL"
   },
   "source": [
    "Therefore, it is obvious from the above visualisation that Nagpur has higher stock than Poona."
   ]
  },
  {
   "cell_type": "markdown",
   "metadata": {
    "id": "dXe0_gYzeH8S"
   },
   "source": [
    "# Lets apply the above methods on Chana dataset"
   ]
  },
  {
   "cell_type": "code",
   "execution_count": null,
   "metadata": {
    "colab": {
     "base_uri": "https://localhost:8080/",
     "height": 363
    },
    "id": "w7c-PakkdcCF",
    "outputId": "92dee70f-c6b1-4f9f-f631-1bbd65c5f9b3"
   },
   "outputs": [],
   "source": [
    "# Display top 10 Records\n",
    "\n",
    "chana.head(10)"
   ]
  },
  {
   "cell_type": "code",
   "execution_count": null,
   "metadata": {
    "colab": {
     "base_uri": "https://localhost:8080/",
     "height": 300
    },
    "id": "P-oNu5NNeXpJ",
    "outputId": "856069af-6192-40e7-beaa-5040b3073fe6"
   },
   "outputs": [],
   "source": [
    "chana.describe()"
   ]
  },
  {
   "cell_type": "markdown",
   "metadata": {
    "id": "asUjUNNvek4I"
   },
   "source": [
    "# Data Preprocessing and Data Cleaning\n",
    "**Exploratory Data Analysis**\n",
    "\n",
    "As you can see, the Code columns appear unrelated. To fix this, we may add a new column called \"State\" and remove terms like \"Region Name:\" from the Code columns."
   ]
  },
  {
   "cell_type": "code",
   "execution_count": null,
   "metadata": {
    "colab": {
     "base_uri": "https://localhost:8080/",
     "height": 363
    },
    "id": "1KMI1kITee5X",
    "outputId": "a2c39e4e-1ffe-4993-c74b-3875af1652ca"
   },
   "outputs": [],
   "source": [
    "#Adding a new column and replacing it with code column's value which is essential\n",
    "\n",
    "chana[\"State\"]= chana[\"Code\"].str.slice(13, len(chana[\"Code\"]), 1)\n",
    "chana.head(10)"
   ]
  },
  {
   "cell_type": "code",
   "execution_count": null,
   "metadata": {
    "colab": {
     "base_uri": "https://localhost:8080/",
     "height": 363
    },
    "id": "W2k0frG-eyxY",
    "outputId": "0440efaa-51dc-461e-f9be-d892465bb236"
   },
   "outputs": [],
   "source": [
    "#Dropping the column which as constant values\n",
    "\n",
    "chana = chana.drop(['Code', 'CommodityId','CommodityStock' ], axis=1)\n",
    "chana.head(10)"
   ]
  },
  {
   "cell_type": "code",
   "execution_count": null,
   "metadata": {
    "colab": {
     "base_uri": "https://localhost:8080/"
    },
    "id": "Al7-r4PkgCKV",
    "outputId": "fe741a6a-2014-45f8-f7ab-f49ba0677852"
   },
   "outputs": [],
   "source": [
    "chana['Date'] = pd.to_datetime(chana['Date'])\n",
    "chana['Month_Year'] = chana['Date'].dt.to_period('M')\n"
   ]
  },
  {
   "cell_type": "code",
   "execution_count": null,
   "metadata": {
    "colab": {
     "base_uri": "https://localhost:8080/",
     "height": 457
    },
    "id": "ImO2d4wOgJ6F",
    "outputId": "2b85612b-26c1-4e28-9420-175264a41cc6"
   },
   "outputs": [],
   "source": [
    "#Sum the Stocks based on Month and group by District Name\n",
    "\n",
    "chana_stock_month = chana.groupby(['Month_Year','DistrictName']).sum()\n",
    "chana_stock_month\n"
   ]
  },
  {
   "cell_type": "code",
   "execution_count": null,
   "metadata": {
    "colab": {
     "base_uri": "https://localhost:8080/",
     "height": 455
    },
    "id": "ONZpDS7gjG95",
    "outputId": "072a7d15-3d4e-4cc8-b04e-b99b826b1bee"
   },
   "outputs": [],
   "source": [
    "#Checking district wise stock\n",
    "#Sum the stocks and group by district name\n",
    "\n",
    "chana_stock_sum = chana.groupby(['Stock','DistrictName']).sum()\n",
    "chana_stock_sum"
   ]
  },
  {
   "cell_type": "code",
   "execution_count": null,
   "metadata": {
    "colab": {
     "base_uri": "https://localhost:8080/",
     "height": 248
    },
    "id": "HOn5Tt3bjYJX",
    "outputId": "e6802d80-35b0-476a-a9bf-7091eaf9d610"
   },
   "outputs": [],
   "source": [
    "chana[\"DistrictName\"].value_counts().plot.pie()\n",
    "\n",
    "plt.show()"
   ]
  },
  {
   "cell_type": "code",
   "execution_count": null,
   "metadata": {
    "colab": {
     "base_uri": "https://localhost:8080/",
     "height": 296
    },
    "id": "MlkNkEAQjcTP",
    "outputId": "610e8ab6-3cd5-4484-bf16-b278ea3eaa6c"
   },
   "outputs": [],
   "source": [
    "sns.barplot(data=chana, x=\"DistrictName\", y=\"Stock\")"
   ]
  },
  {
   "cell_type": "markdown",
   "metadata": {
    "id": "kkXcwkCjkBVo"
   },
   "source": [
    "Consequently, it can be seen from the preceding illustration that Poona is the entire district where chana dal is distributed."
   ]
  },
  {
   "cell_type": "markdown",
   "metadata": {
    "id": "nheFmM9ei1vB"
   },
   "source": [
    "# Lets apply the above methods on Chana dataset"
   ]
  },
  {
   "cell_type": "code",
   "execution_count": null,
   "metadata": {
    "colab": {
     "base_uri": "https://localhost:8080/",
     "height": 363
    },
    "id": "SPEfeDSOiubJ",
    "outputId": "042c66cc-b127-4b79-e835-a48d39bdf22c"
   },
   "outputs": [],
   "source": [
    "# Display top 10 Records\n",
    "\n",
    "moong.head(10)"
   ]
  },
  {
   "cell_type": "code",
   "execution_count": null,
   "metadata": {
    "colab": {
     "base_uri": "https://localhost:8080/",
     "height": 300
    },
    "id": "PFdSqOuch9Wp",
    "outputId": "6a2d775c-a840-4b6f-8b04-bf355b7545c7"
   },
   "outputs": [],
   "source": [
    "moong.describe()"
   ]
  },
  {
   "cell_type": "markdown",
   "metadata": {
    "id": "hya8WuhWh1zT"
   },
   "source": [
    "## Data Preprocessing and Data Cleaning\n",
    "Exploratory Data Analysis\n",
    "\n"
   ]
  },
  {
   "cell_type": "code",
   "execution_count": null,
   "metadata": {
    "colab": {
     "base_uri": "https://localhost:8080/",
     "height": 0
    },
    "id": "rDL4mhrehtNf",
    "outputId": "4223d8ec-521d-4888-feb9-55677d8dda82"
   },
   "outputs": [],
   "source": [
    "#Adding a new column and replacing it with code column's value which is essential\n",
    "\n",
    "moong[\"State\"]= moong[\"Code\"].str.slice(13, len(moong[\"Code\"]), 1)\n",
    "moong.head(10)"
   ]
  },
  {
   "cell_type": "code",
   "execution_count": null,
   "metadata": {
    "colab": {
     "base_uri": "https://localhost:8080/",
     "height": 0
    },
    "id": "VBCL_4RYhnRK",
    "outputId": "6758081b-7887-4ae4-b18f-de15126299e2"
   },
   "outputs": [],
   "source": [
    "#Dropping the column which as constant values\n",
    "\n",
    "moong = moong.drop(['Code', 'CommodityId','CommodityStock' ], axis=1)\n",
    "moong.head(10)"
   ]
  },
  {
   "cell_type": "code",
   "execution_count": null,
   "metadata": {
    "colab": {
     "base_uri": "https://localhost:8080/"
    },
    "id": "tCwz5zg-hEL-",
    "outputId": "334a3546-58b5-491c-e0e9-19393de5d837"
   },
   "outputs": [],
   "source": [
    "moong['Date'] = pd.to_datetime(moong['Date'])\n",
    "moong['Month_Year'] = moong['Date'].dt.to_period('M')"
   ]
  },
  {
   "cell_type": "code",
   "execution_count": null,
   "metadata": {
    "colab": {
     "base_uri": "https://localhost:8080/",
     "height": 0
    },
    "id": "kyglmq6AhAWc",
    "outputId": "da585d1d-d80c-4ed2-8e97-9da58f8586ad"
   },
   "outputs": [],
   "source": [
    "#Sum the Stocks based on Month and group by District Name\n",
    "\n",
    "moong_stock_month = moong.groupby(['Month_Year','DistrictName']).sum()\n",
    "moong_stock_month"
   ]
  },
  {
   "cell_type": "code",
   "execution_count": null,
   "metadata": {
    "colab": {
     "base_uri": "https://localhost:8080/",
     "height": 0
    },
    "id": "Kw6A4KrZjOLQ",
    "outputId": "1e70d1c0-9567-41a5-e65e-ec5a99d28aa8"
   },
   "outputs": [],
   "source": [
    "#Checking district wise stock\n",
    "#Sum the stocks and group by district name\n",
    "\n",
    "moong_stock_sum = moong.groupby(['Stock','DistrictName']).sum()\n",
    "moong_stock_sum"
   ]
  },
  {
   "cell_type": "code",
   "execution_count": null,
   "metadata": {
    "colab": {
     "base_uri": "https://localhost:8080/",
     "height": 0
    },
    "id": "2YwsLy6yjdPf",
    "outputId": "628ed8c0-5948-4bee-a77b-e32952a0052b"
   },
   "outputs": [],
   "source": [
    "moong[\"DistrictName\"].value_counts().plot.pie()\n",
    "\n",
    "plt.show()"
   ]
  },
  {
   "cell_type": "code",
   "execution_count": null,
   "metadata": {
    "colab": {
     "base_uri": "https://localhost:8080/",
     "height": 0
    },
    "id": "kx6OfthPjlAm",
    "outputId": "c6d23f6f-0d64-4466-df8c-739982636e83"
   },
   "outputs": [],
   "source": [
    "sns.barplot(data=moong, x=\"DistrictName\", y=\"Stock\")"
   ]
  },
  {
   "cell_type": "markdown",
   "metadata": {
    "id": "CAkpFpRXkN1N"
   },
   "source": [
    "Therefore, it is obvious from the above visualisation that Nagpur has higher stock than Poona."
   ]
  },
  {
   "cell_type": "markdown",
   "metadata": {
    "id": "id7LlJfnkogE"
   },
   "source": [
    "## **In general, we have three datasets that allowed us to determine that the most widely spread pulses were from Nagpur and Poona.**"
   ]
  },
  {
   "cell_type": "code",
   "execution_count": null,
   "metadata": {
    "id": "9S-N0PkRRANI"
   },
   "outputs": [],
   "source": [
    "total_com_stock=pd.concat([urad,chana,moong])"
   ]
  },
  {
   "cell_type": "code",
   "execution_count": null,
   "metadata": {
    "colab": {
     "base_uri": "https://localhost:8080/",
     "height": 424
    },
    "id": "EXAneEjtV7-o",
    "outputId": "e43e8d8f-240c-4924-da33-81cc58e2309a"
   },
   "outputs": [],
   "source": [
    "total_com_stock"
   ]
  },
  {
   "cell_type": "code",
   "execution_count": null,
   "metadata": {
    "colab": {
     "base_uri": "https://localhost:8080/",
     "height": 297
    },
    "id": "2HfsqCzFVC8W",
    "outputId": "e2d4ba3d-7f71-4cb8-f245-44dffc97508a"
   },
   "outputs": [],
   "source": [
    "sns.barplot(data=total_com_stock, x=\"CommodityName\", y=\"TotalStock\")"
   ]
  },
  {
   "cell_type": "markdown",
   "metadata": {
    "id": "l8z15iIXWd0C"
   },
   "source": [
    "# We conclude by adding a statement that Chana's distribution is highest compared to other two pulses i,e. Moong and Urad."
   ]
  }
 ],
 "metadata": {
  "colab": {
   "collapsed_sections": [
    "hya8WuhWh1zT"
   ],
   "provenance": []
  },
  "kernelspec": {
   "display_name": "Python 3",
   "language": "python",
   "name": "python3"
  },
  "language_info": {
   "codemirror_mode": {
    "name": "ipython",
    "version": 3
   },
   "file_extension": ".py",
   "mimetype": "text/x-python",
   "name": "python",
   "nbconvert_exporter": "python",
   "pygments_lexer": "ipython3",
   "version": "3.8.8"
  }
 },
 "nbformat": 4,
 "nbformat_minor": 1
}
